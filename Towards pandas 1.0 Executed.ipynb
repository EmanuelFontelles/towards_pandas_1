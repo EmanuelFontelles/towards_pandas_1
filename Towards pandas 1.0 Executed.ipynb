{
 "cells": [
  {
   "cell_type": "code",
   "execution_count": 1,
   "metadata": {
    "slideshow": {
     "slide_type": "skip"
    }
   },
   "outputs": [
    {
     "data": {
      "text/html": [
       "<link rel=\"stylesheet\" type=\"text/css\" href=\"css/custom.css\">"
      ],
      "text/plain": [
       "<IPython.core.display.HTML object>"
      ]
     },
     "metadata": {},
     "output_type": "display_data"
    }
   ],
   "source": [
    "%%HTML\n",
    "<link rel=\"stylesheet\" type=\"text/css\" href=\"css/custom.css\">"
   ]
  },
  {
   "cell_type": "markdown",
   "metadata": {
    "slideshow": {
     "slide_type": "slide"
    }
   },
   "source": [
    "# Towards pandas 1.0\n",
    "\n",
    "Marc Garcia - @datapythonista"
   ]
  },
  {
   "cell_type": "markdown",
   "metadata": {
    "slideshow": {
     "slide_type": "slide"
    }
   },
   "source": [
    "## About me\n",
    "\n",
    "Marc Garcia - @datapythonista\n",
    "\n",
    "- 12 years working with Python\n",
    "- Master degree in AI\n",
    "- pandas core developer\n",
    "- Python fellow\n",
    "- NumFOCUS ambassador / volunteer\n",
    "- Organiser of the London Python sprints group\n",
    "- Data scientist at Tesco\n",
    "\n",
    "https://twitter.com/datapythonista"
   ]
  },
  {
   "cell_type": "markdown",
   "metadata": {
    "slideshow": {
     "slide_type": "slide"
    }
   },
   "source": [
    "## About pandas\n",
    "\n",
    "![](img/wes.jpg)\n",
    "\n",
    "- Started by **Wes McKinney** in 2008 in his spare time\n",
    " - Mainly to have R's `dataframe` functionality in Python"
   ]
  },
  {
   "cell_type": "markdown",
   "metadata": {
    "slideshow": {
     "slide_type": "subslide"
    }
   },
   "source": [
    "- Huge API\n",
    " - `Series` has 325 public methods/attributes\n",
    " - `DataFrame` has 224 public methods/attributes\n",
    " - Native support for 14 data formats (besides loading from Python objects)\n",
    " - More than 1,200 docstrings"
   ]
  },
  {
   "cell_type": "markdown",
   "metadata": {
    "slideshow": {
     "slide_type": "fragment"
    }
   },
   "source": [
    "- Huge user base\n",
    " - Estimated to have between **5 and 10 million users**"
   ]
  },
  {
   "cell_type": "markdown",
   "metadata": {
    "slideshow": {
     "slide_type": "fragment"
    }
   },
   "source": [
    "- Developed by the community (contributors and maintainers rarely get paid for their work in pandas)\n",
    " - Supported by **NumFOCUS**"
   ]
  },
  {
   "cell_type": "markdown",
   "metadata": {
    "slideshow": {
     "slide_type": "slide"
    }
   },
   "source": [
    "## Quick overview"
   ]
  },
  {
   "cell_type": "code",
   "execution_count": 2,
   "metadata": {
    "slideshow": {
     "slide_type": "fragment"
    }
   },
   "outputs": [
    {
     "data": {
      "text/html": [
       "<div>\n",
       "<style scoped>\n",
       "    .dataframe tbody tr th:only-of-type {\n",
       "        vertical-align: middle;\n",
       "    }\n",
       "\n",
       "    .dataframe tbody tr th {\n",
       "        vertical-align: top;\n",
       "    }\n",
       "\n",
       "    .dataframe thead th {\n",
       "        text-align: right;\n",
       "    }\n",
       "</style>\n",
       "<table border=\"1\" class=\"dataframe\">\n",
       "  <thead>\n",
       "    <tr style=\"text-align: right;\">\n",
       "      <th></th>\n",
       "      <th>PassengerId</th>\n",
       "      <th>Survived</th>\n",
       "      <th>Pclass</th>\n",
       "      <th>Name</th>\n",
       "      <th>Sex</th>\n",
       "      <th>Age</th>\n",
       "      <th>SibSp</th>\n",
       "      <th>Parch</th>\n",
       "      <th>Ticket</th>\n",
       "      <th>Fare</th>\n",
       "      <th>Cabin</th>\n",
       "      <th>Embarked</th>\n",
       "    </tr>\n",
       "  </thead>\n",
       "  <tbody>\n",
       "    <tr>\n",
       "      <th>0</th>\n",
       "      <td>1</td>\n",
       "      <td>0</td>\n",
       "      <td>3</td>\n",
       "      <td>Braund, Mr. Owen Harris</td>\n",
       "      <td>male</td>\n",
       "      <td>22.0</td>\n",
       "      <td>1</td>\n",
       "      <td>0</td>\n",
       "      <td>A/5 21171</td>\n",
       "      <td>7.2500</td>\n",
       "      <td>NaN</td>\n",
       "      <td>S</td>\n",
       "    </tr>\n",
       "    <tr>\n",
       "      <th>1</th>\n",
       "      <td>2</td>\n",
       "      <td>1</td>\n",
       "      <td>1</td>\n",
       "      <td>Cumings, Mrs. John Bradley (Florence Briggs Th...</td>\n",
       "      <td>female</td>\n",
       "      <td>38.0</td>\n",
       "      <td>1</td>\n",
       "      <td>0</td>\n",
       "      <td>PC 17599</td>\n",
       "      <td>71.2833</td>\n",
       "      <td>C85</td>\n",
       "      <td>C</td>\n",
       "    </tr>\n",
       "    <tr>\n",
       "      <th>2</th>\n",
       "      <td>3</td>\n",
       "      <td>1</td>\n",
       "      <td>3</td>\n",
       "      <td>Heikkinen, Miss. Laina</td>\n",
       "      <td>female</td>\n",
       "      <td>26.0</td>\n",
       "      <td>0</td>\n",
       "      <td>0</td>\n",
       "      <td>STON/O2. 3101282</td>\n",
       "      <td>7.9250</td>\n",
       "      <td>NaN</td>\n",
       "      <td>S</td>\n",
       "    </tr>\n",
       "    <tr>\n",
       "      <th>3</th>\n",
       "      <td>4</td>\n",
       "      <td>1</td>\n",
       "      <td>1</td>\n",
       "      <td>Futrelle, Mrs. Jacques Heath (Lily May Peel)</td>\n",
       "      <td>female</td>\n",
       "      <td>35.0</td>\n",
       "      <td>1</td>\n",
       "      <td>0</td>\n",
       "      <td>113803</td>\n",
       "      <td>53.1000</td>\n",
       "      <td>C123</td>\n",
       "      <td>S</td>\n",
       "    </tr>\n",
       "    <tr>\n",
       "      <th>4</th>\n",
       "      <td>5</td>\n",
       "      <td>0</td>\n",
       "      <td>3</td>\n",
       "      <td>Allen, Mr. William Henry</td>\n",
       "      <td>male</td>\n",
       "      <td>35.0</td>\n",
       "      <td>0</td>\n",
       "      <td>0</td>\n",
       "      <td>373450</td>\n",
       "      <td>8.0500</td>\n",
       "      <td>NaN</td>\n",
       "      <td>S</td>\n",
       "    </tr>\n",
       "  </tbody>\n",
       "</table>\n",
       "</div>"
      ],
      "text/plain": [
       "   PassengerId  Survived  Pclass  \\\n",
       "0            1         0       3   \n",
       "1            2         1       1   \n",
       "2            3         1       3   \n",
       "3            4         1       1   \n",
       "4            5         0       3   \n",
       "\n",
       "                                                Name     Sex   Age  SibSp  \\\n",
       "0                            Braund, Mr. Owen Harris    male  22.0      1   \n",
       "1  Cumings, Mrs. John Bradley (Florence Briggs Th...  female  38.0      1   \n",
       "2                             Heikkinen, Miss. Laina  female  26.0      0   \n",
       "3       Futrelle, Mrs. Jacques Heath (Lily May Peel)  female  35.0      1   \n",
       "4                           Allen, Mr. William Henry    male  35.0      0   \n",
       "\n",
       "   Parch            Ticket     Fare Cabin Embarked  \n",
       "0      0         A/5 21171   7.2500   NaN        S  \n",
       "1      0          PC 17599  71.2833   C85        C  \n",
       "2      0  STON/O2. 3101282   7.9250   NaN        S  \n",
       "3      0            113803  53.1000  C123        S  \n",
       "4      0            373450   8.0500   NaN        S  "
      ]
     },
     "execution_count": 2,
     "metadata": {},
     "output_type": "execute_result"
    }
   ],
   "source": [
    "import pandas\n",
    "\n",
    "df = pandas.read_csv('data/titanic.csv.gz')\n",
    "df.head()"
   ]
  },
  {
   "cell_type": "code",
   "execution_count": 3,
   "metadata": {
    "slideshow": {
     "slide_type": "subslide"
    }
   },
   "outputs": [
    {
     "data": {
      "text/plain": [
       "'20% passengers with unknown age'"
      ]
     },
     "execution_count": 3,
     "metadata": {},
     "output_type": "execute_result"
    }
   ],
   "source": [
    "'{:.0%} passengers with unknown age'.format(\n",
    "    df['Age'].isnull().mean())"
   ]
  },
  {
   "cell_type": "code",
   "execution_count": 4,
   "metadata": {
    "slideshow": {
     "slide_type": "fragment"
    }
   },
   "outputs": [
    {
     "data": {
      "text/plain": [
       "'0% passengers with unknown age'"
      ]
     },
     "execution_count": 4,
     "metadata": {},
     "output_type": "execute_result"
    }
   ],
   "source": [
    "df['Age'].fillna(df.Age.median(), inplace=True)\n",
    "\n",
    "'{:.0%} passengers with unknown age'.format(\n",
    "    df['Age'].isnull().mean())"
   ]
  },
  {
   "cell_type": "code",
   "execution_count": 5,
   "metadata": {
    "slideshow": {
     "slide_type": "subslide"
    }
   },
   "outputs": [
    {
     "data": {
      "image/png": "[encoded data removed]",
      "text/plain": [
       "<Figure size 432x288 with 1 Axes>"
      ]
     },
     "metadata": {},
     "output_type": "display_data"
    }
   ],
   "source": [
    "%matplotlib inline\n",
    "\n",
    "df[['Age']].boxplot();"
   ]
  },
  {
   "cell_type": "code",
   "execution_count": 6,
   "metadata": {
    "slideshow": {
     "slide_type": "fragment"
    }
   },
   "outputs": [
    {
     "data": {
      "image/png": "[encoded data removed]",
      "text/plain": [
       "<Figure size 432x288 with 1 Axes>"
      ]
     },
     "metadata": {},
     "output_type": "display_data"
    }
   ],
   "source": [
    "df = df[df.Age < df.Age.quantile(.99)]\n",
    "\n",
    "df[['Age']].boxplot();"
   ]
  },
  {
   "cell_type": "code",
   "execution_count": 7,
   "metadata": {
    "slideshow": {
     "slide_type": "subslide"
    }
   },
   "outputs": [
    {
     "data": {
      "text/plain": [
       "0    Young\n",
       "1    Young\n",
       "2    Young\n",
       "3    Young\n",
       "4    Young\n",
       "Name: Age, dtype: category\n",
       "Categories (3, object): [Underage < Young < Experienced]"
      ]
     },
     "execution_count": 7,
     "metadata": {},
     "output_type": "execute_result"
    }
   ],
   "source": [
    "df['Age'] = pandas.cut(df['Age'],\n",
    "                       bins=[df.Age.min(), 18, 40, df.Age.max()],\n",
    "                       labels=['Underage', 'Young', 'Experienced'])\n",
    "df['Age'].head()"
   ]
  },
  {
   "cell_type": "code",
   "execution_count": 8,
   "metadata": {
    "slideshow": {
     "slide_type": "subslide"
    }
   },
   "outputs": [
    {
     "data": {
      "text/html": [
       "<div>\n",
       "<style scoped>\n",
       "    .dataframe tbody tr th:only-of-type {\n",
       "        vertical-align: middle;\n",
       "    }\n",
       "\n",
       "    .dataframe tbody tr th {\n",
       "        vertical-align: top;\n",
       "    }\n",
       "\n",
       "    .dataframe thead th {\n",
       "        text-align: right;\n",
       "    }\n",
       "</style>\n",
       "<table border=\"1\" class=\"dataframe\">\n",
       "  <thead>\n",
       "    <tr style=\"text-align: right;\">\n",
       "      <th>Pclass</th>\n",
       "      <th>1</th>\n",
       "      <th>2</th>\n",
       "      <th>3</th>\n",
       "    </tr>\n",
       "    <tr>\n",
       "      <th>Age</th>\n",
       "      <th></th>\n",
       "      <th></th>\n",
       "      <th></th>\n",
       "    </tr>\n",
       "  </thead>\n",
       "  <tbody>\n",
       "    <tr>\n",
       "      <th>Underage</th>\n",
       "      <td>0.687500</td>\n",
       "      <td>0.482759</td>\n",
       "      <td>0.462366</td>\n",
       "    </tr>\n",
       "    <tr>\n",
       "      <th>Young</th>\n",
       "      <td>0.459677</td>\n",
       "      <td>0.404959</td>\n",
       "      <td>0.257703</td>\n",
       "    </tr>\n",
       "    <tr>\n",
       "      <th>Experienced</th>\n",
       "      <td>0.371429</td>\n",
       "      <td>0.406250</td>\n",
       "      <td>0.243243</td>\n",
       "    </tr>\n",
       "  </tbody>\n",
       "</table>\n",
       "</div>"
      ],
      "text/plain": [
       "Pclass              1         2         3\n",
       "Age                                      \n",
       "Underage     0.687500  0.482759  0.462366\n",
       "Young        0.459677  0.404959  0.257703\n",
       "Experienced  0.371429  0.406250  0.243243"
      ]
     },
     "execution_count": 8,
     "metadata": {},
     "output_type": "execute_result"
    }
   ],
   "source": [
    "df['Sex'] = df['Sex'].replace({'female': 1, 'male': 0})\n",
    "\n",
    "df = df.pivot_table(values='Sex', columns='Pclass', index='Age', aggfunc='mean')\n",
    "df"
   ]
  },
  {
   "cell_type": "code",
   "execution_count": 9,
   "metadata": {
    "slideshow": {
     "slide_type": "fragment"
    }
   },
   "outputs": [
    {
     "data": {
      "text/html": [
       "<style  type=\"text/css\" >\n",
       "</style>  \n",
       "<table id=\"T_71a21474_a0c9_11e8_b56d_9cb6d08870d9\" > \n",
       "<thead>    <tr> \n",
       "        <th class=\"index_name level0\" ></th> \n",
       "        <th class=\"col_heading level0 col0\" >Class 1</th> \n",
       "        <th class=\"col_heading level0 col1\" >Class 2</th> \n",
       "        <th class=\"col_heading level0 col2\" >Class 3</th> \n",
       "    </tr>    <tr> \n",
       "        <th class=\"index_name level0\" >Age</th> \n",
       "        <th class=\"blank\" ></th> \n",
       "        <th class=\"blank\" ></th> \n",
       "        <th class=\"blank\" ></th> \n",
       "    </tr></thead> \n",
       "<tbody>    <tr> \n",
       "        <th id=\"T_71a21474_a0c9_11e8_b56d_9cb6d08870d9level0_row0\" class=\"row_heading level0 row0\" >Underage</th> \n",
       "        <td id=\"T_71a21474_a0c9_11e8_b56d_9cb6d08870d9row0_col0\" class=\"data row0 col0\" >68.75%</td> \n",
       "        <td id=\"T_71a21474_a0c9_11e8_b56d_9cb6d08870d9row0_col1\" class=\"data row0 col1\" >48.28%</td> \n",
       "        <td id=\"T_71a21474_a0c9_11e8_b56d_9cb6d08870d9row0_col2\" class=\"data row0 col2\" >46.24%</td> \n",
       "    </tr>    <tr> \n",
       "        <th id=\"T_71a21474_a0c9_11e8_b56d_9cb6d08870d9level0_row1\" class=\"row_heading level0 row1\" >Young</th> \n",
       "        <td id=\"T_71a21474_a0c9_11e8_b56d_9cb6d08870d9row1_col0\" class=\"data row1 col0\" >45.97%</td> \n",
       "        <td id=\"T_71a21474_a0c9_11e8_b56d_9cb6d08870d9row1_col1\" class=\"data row1 col1\" >40.50%</td> \n",
       "        <td id=\"T_71a21474_a0c9_11e8_b56d_9cb6d08870d9row1_col2\" class=\"data row1 col2\" >25.77%</td> \n",
       "    </tr>    <tr> \n",
       "        <th id=\"T_71a21474_a0c9_11e8_b56d_9cb6d08870d9level0_row2\" class=\"row_heading level0 row2\" >Experienced</th> \n",
       "        <td id=\"T_71a21474_a0c9_11e8_b56d_9cb6d08870d9row2_col0\" class=\"data row2 col0\" >37.14%</td> \n",
       "        <td id=\"T_71a21474_a0c9_11e8_b56d_9cb6d08870d9row2_col1\" class=\"data row2 col1\" >40.62%</td> \n",
       "        <td id=\"T_71a21474_a0c9_11e8_b56d_9cb6d08870d9row2_col2\" class=\"data row2 col2\" >24.32%</td> \n",
       "    </tr></tbody> \n",
       "</table> "
      ],
      "text/plain": [
       "<pandas.io.formats.style.Styler at 0x7f25828e6780>"
      ]
     },
     "execution_count": 9,
     "metadata": {},
     "output_type": "execute_result"
    }
   ],
   "source": [
    "df = df.rename_axis('', axis='columns')\n",
    "df = df.rename('Class {}'.format, axis='columns')\n",
    "df.style.format('{:.2%}')"
   ]
  },
  {
   "cell_type": "markdown",
   "metadata": {
    "slideshow": {
     "slide_type": "slide"
    }
   },
   "source": [
    "## pandas update"
   ]
  },
  {
   "cell_type": "markdown",
   "metadata": {
    "slideshow": {
     "slide_type": "subslide"
    }
   },
   "source": [
    "### Deprecated features\n",
    "\n",
    "- `.ix` method\n",
    " - Use `.loc` and `.iloc` instead"
   ]
  },
  {
   "cell_type": "markdown",
   "metadata": {
    "slideshow": {
     "slide_type": "fragment"
    }
   },
   "source": [
    "- Deprecation of `Panel` (3-dimensional `DataFrame`)\n",
    " - Use `DataFrame` with multi-index, or `x-array` package instead"
   ]
  },
  {
   "cell_type": "markdown",
   "metadata": {
    "slideshow": {
     "slide_type": "subslide"
    }
   },
   "source": [
    "### Future deprecations (TBC)\n",
    "\n",
    "- `SparseDataFrame`\n",
    " - Main use case is `pandas.get_dummies(sparse=True)`\n",
    " - Not sparse like in `coo`, `csc`, `csr`.\n",
    " - Incomplete and buggy"
   ]
  },
  {
   "cell_type": "markdown",
   "metadata": {
    "slideshow": {
     "slide_type": "fragment"
    }
   },
   "source": [
    "- `inplace=True`\n",
    " - Like in `df.fillna(0., inplace=True)`"
   ]
  },
  {
   "cell_type": "code",
   "execution_count": 10,
   "metadata": {
    "slideshow": {
     "slide_type": "subslide"
    }
   },
   "outputs": [
    {
     "data": {
      "text/html": [
       "<style  type=\"text/css\" >\n",
       "</style>  \n",
       "<table id=\"T_71b0198e_a0c9_11e8_b56d_9cb6d08870d9\" > \n",
       "<thead>    <tr> \n",
       "        <th class=\"index_name level0\" ></th> \n",
       "        <th class=\"col_heading level0 col0\" >Class 1</th> \n",
       "        <th class=\"col_heading level0 col1\" >Class 2</th> \n",
       "        <th class=\"col_heading level0 col2\" >Class 3</th> \n",
       "    </tr>    <tr> \n",
       "        <th class=\"index_name level0\" >Age</th> \n",
       "        <th class=\"blank\" ></th> \n",
       "        <th class=\"blank\" ></th> \n",
       "        <th class=\"blank\" ></th> \n",
       "    </tr></thead> \n",
       "<tbody>    <tr> \n",
       "        <th id=\"T_71b0198e_a0c9_11e8_b56d_9cb6d08870d9level0_row0\" class=\"row_heading level0 row0\" >Underage</th> \n",
       "        <td id=\"T_71b0198e_a0c9_11e8_b56d_9cb6d08870d9row0_col0\" class=\"data row0 col0\" >68.75%</td> \n",
       "        <td id=\"T_71b0198e_a0c9_11e8_b56d_9cb6d08870d9row0_col1\" class=\"data row0 col1\" >48.28%</td> \n",
       "        <td id=\"T_71b0198e_a0c9_11e8_b56d_9cb6d08870d9row0_col2\" class=\"data row0 col2\" >46.24%</td> \n",
       "    </tr>    <tr> \n",
       "        <th id=\"T_71b0198e_a0c9_11e8_b56d_9cb6d08870d9level0_row1\" class=\"row_heading level0 row1\" >Young</th> \n",
       "        <td id=\"T_71b0198e_a0c9_11e8_b56d_9cb6d08870d9row1_col0\" class=\"data row1 col0\" >51.06%</td> \n",
       "        <td id=\"T_71b0198e_a0c9_11e8_b56d_9cb6d08870d9row1_col1\" class=\"data row1 col1\" >42.73%</td> \n",
       "        <td id=\"T_71b0198e_a0c9_11e8_b56d_9cb6d08870d9row1_col2\" class=\"data row1 col2\" >22.62%</td> \n",
       "    </tr>    <tr> \n",
       "        <th id=\"T_71b0198e_a0c9_11e8_b56d_9cb6d08870d9level0_row2\" class=\"row_heading level0 row2\" >Experienced</th> \n",
       "        <td id=\"T_71b0198e_a0c9_11e8_b56d_9cb6d08870d9row2_col0\" class=\"data row2 col0\" >36.11%</td> \n",
       "        <td id=\"T_71b0198e_a0c9_11e8_b56d_9cb6d08870d9row2_col1\" class=\"data row2 col1\" >40.62%</td> \n",
       "        <td id=\"T_71b0198e_a0c9_11e8_b56d_9cb6d08870d9row2_col2\" class=\"data row2 col2\" >23.68%</td> \n",
       "    </tr></tbody> \n",
       "</table> "
      ],
      "text/plain": [
       "<pandas.io.formats.style.Styler at 0x7f25822beda0>"
      ]
     },
     "execution_count": 10,
     "metadata": {},
     "output_type": "execute_result"
    }
   ],
   "source": [
    "import pandas\n",
    "\n",
    "df = pandas.read_csv('data/titanic.csv.gz')\n",
    "\n",
    "df = df[df.Age < df.Age.quantile(.99)]\n",
    "\n",
    "df['Age'].fillna(df.Age.median(), inplace=True)  # <- Using inplace\n",
    "\n",
    "df['Age'] = pandas.cut(df['Age'],\n",
    "                       bins=[df.Age.min(), 18, 40, df.Age.max()],\n",
    "                       labels=['Underage', 'Young', 'Experienced'])\n",
    "\n",
    "df['Sex'] = df['Sex'].replace({'female': 1, 'male': 0})\n",
    "\n",
    "df = df.pivot_table(values='Sex', columns='Pclass', index='Age', aggfunc='mean')\n",
    "\n",
    "df = df.rename_axis('', axis='columns')\n",
    "\n",
    "df = df.rename('Class {}'.format, axis='columns')\n",
    "\n",
    "df.style.format('{:.2%}')"
   ]
  },
  {
   "cell_type": "code",
   "execution_count": 11,
   "metadata": {
    "slideshow": {
     "slide_type": "subslide"
    }
   },
   "outputs": [
    {
     "data": {
      "text/html": [
       "<style  type=\"text/css\" >\n",
       "</style>  \n",
       "<table id=\"T_71b6d2d8_a0c9_11e8_b56d_9cb6d08870d9\" > \n",
       "<thead>    <tr> \n",
       "        <th class=\"index_name level0\" ></th> \n",
       "        <th class=\"col_heading level0 col0\" >Class 1</th> \n",
       "        <th class=\"col_heading level0 col1\" >Class 2</th> \n",
       "        <th class=\"col_heading level0 col2\" >Class 3</th> \n",
       "    </tr>    <tr> \n",
       "        <th class=\"index_name level0\" >Age</th> \n",
       "        <th class=\"blank\" ></th> \n",
       "        <th class=\"blank\" ></th> \n",
       "        <th class=\"blank\" ></th> \n",
       "    </tr></thead> \n",
       "<tbody>    <tr> \n",
       "        <th id=\"T_71b6d2d8_a0c9_11e8_b56d_9cb6d08870d9level0_row0\" class=\"row_heading level0 row0\" >Underage</th> \n",
       "        <td id=\"T_71b6d2d8_a0c9_11e8_b56d_9cb6d08870d9row0_col0\" class=\"data row0 col0\" >68.75%</td> \n",
       "        <td id=\"T_71b6d2d8_a0c9_11e8_b56d_9cb6d08870d9row0_col1\" class=\"data row0 col1\" >48.28%</td> \n",
       "        <td id=\"T_71b6d2d8_a0c9_11e8_b56d_9cb6d08870d9row0_col2\" class=\"data row0 col2\" >46.24%</td> \n",
       "    </tr>    <tr> \n",
       "        <th id=\"T_71b6d2d8_a0c9_11e8_b56d_9cb6d08870d9level0_row1\" class=\"row_heading level0 row1\" >Young</th> \n",
       "        <td id=\"T_71b6d2d8_a0c9_11e8_b56d_9cb6d08870d9row1_col0\" class=\"data row1 col0\" >51.06%</td> \n",
       "        <td id=\"T_71b6d2d8_a0c9_11e8_b56d_9cb6d08870d9row1_col1\" class=\"data row1 col1\" >42.73%</td> \n",
       "        <td id=\"T_71b6d2d8_a0c9_11e8_b56d_9cb6d08870d9row1_col2\" class=\"data row1 col2\" >22.62%</td> \n",
       "    </tr>    <tr> \n",
       "        <th id=\"T_71b6d2d8_a0c9_11e8_b56d_9cb6d08870d9level0_row2\" class=\"row_heading level0 row2\" >Experienced</th> \n",
       "        <td id=\"T_71b6d2d8_a0c9_11e8_b56d_9cb6d08870d9row2_col0\" class=\"data row2 col0\" >36.11%</td> \n",
       "        <td id=\"T_71b6d2d8_a0c9_11e8_b56d_9cb6d08870d9row2_col1\" class=\"data row2 col1\" >40.62%</td> \n",
       "        <td id=\"T_71b6d2d8_a0c9_11e8_b56d_9cb6d08870d9row2_col2\" class=\"data row2 col2\" >23.68%</td> \n",
       "    </tr></tbody> \n",
       "</table> "
      ],
      "text/plain": [
       "<pandas.io.formats.style.Styler at 0x7f258216b080>"
      ]
     },
     "execution_count": 11,
     "metadata": {},
     "output_type": "execute_result"
    }
   ],
   "source": [
    "import pandas\n",
    "\n",
    "(pandas.read_csv('data/titanic.csv.gz')\n",
    "       .query('Age < Age.quantile(.99)')\n",
    "       .assign(Sex=lambda df: df['Sex'].replace({'female': 1, 'male': 0}),\n",
    "               Age=lambda df: pandas.cut(df['Age'].fillna(df.Age.median()),\n",
    "                                         bins=[df.Age.min(), 18, 40, df.Age.max()],\n",
    "                                         labels=['Underage', 'Young', 'Experienced']))\n",
    "       .pivot_table(values='Sex', columns='Pclass', index='Age', aggfunc='mean')\n",
    "       .rename_axis('', axis='columns')\n",
    "       .rename('Class {}'.format, axis='columns')\n",
    "       .style.format('{:.2%}'))"
   ]
  },
  {
   "cell_type": "markdown",
   "metadata": {
    "slideshow": {
     "slide_type": "subslide"
    }
   },
   "source": [
    "### Some reasons\n",
    "\n",
    "- Readability counts\n",
    "- Future ability to have lazy evaluation\n",
    "- Misleading: In place can make a copy"
   ]
  },
  {
   "cell_type": "markdown",
   "metadata": {
    "slideshow": {
     "slide_type": "subslide"
    }
   },
   "source": [
    "#### Readability counts"
   ]
  },
  {
   "cell_type": "code",
   "execution_count": 12,
   "metadata": {
    "slideshow": {
     "slide_type": "fragment"
    }
   },
   "outputs": [
    {
     "name": "stdout",
     "output_type": "stream",
     "text": [
      "The Zen of Python, by Tim Peters\n",
      "\n",
      "Beautiful is better than ugly.\n",
      "Explicit is better than implicit.\n",
      "Simple is better than complex.\n",
      "Complex is better than complicated.\n",
      "Flat is better than nested.\n",
      "Sparse is better than dense.\n",
      "Readability counts.\n",
      "Special cases aren't special enough to break the rules.\n",
      "Although practicality beats purity.\n",
      "Errors should never pass silently.\n",
      "Unless explicitly silenced.\n",
      "In the face of ambiguity, refuse the temptation to guess.\n",
      "There should be one-- and preferably only one --obvious way to do it.\n",
      "Although that way may not be obvious at first unless you're Dutch.\n",
      "Now is better than never.\n",
      "Although never is often better than *right* now.\n",
      "If the implementation is hard to explain, it's a bad idea.\n",
      "If the implementation is easy to explain, it may be a good idea.\n",
      "Namespaces are one honking great idea -- let's do more of those!\n"
     ]
    }
   ],
   "source": [
    "import this"
   ]
  },
  {
   "cell_type": "markdown",
   "metadata": {
    "slideshow": {
     "slide_type": "subslide"
    }
   },
   "source": [
    "#### Lazy evaluation"
   ]
  },
  {
   "cell_type": "code",
   "execution_count": 13,
   "metadata": {
    "slideshow": {
     "slide_type": "fragment"
    }
   },
   "outputs": [
    {
     "name": "stdout",
     "output_type": "stream",
     "text": [
      "CPU times: user 5 µs, sys: 0 ns, total: 5 µs\n",
      "Wall time: 8.58 µs\n"
     ]
    },
    {
     "data": {
      "text/plain": [
       "<map at 0x7f25828e6fd0>"
      ]
     },
     "execution_count": 13,
     "metadata": {},
     "output_type": "execute_result"
    }
   ],
   "source": [
    "%time map(lambda x: x ** 2, range(100_000_000_000))"
   ]
  },
  {
   "cell_type": "markdown",
   "metadata": {
    "slideshow": {
     "slide_type": "subslide"
    }
   },
   "source": [
    "![](img/world.jpg)"
   ]
  },
  {
   "cell_type": "code",
   "execution_count": 14,
   "metadata": {
    "slideshow": {
     "slide_type": "subslide"
    }
   },
   "outputs": [
    {
     "name": "stdout",
     "output_type": "stream",
     "text": [
      "CPU times: user 611 ms, sys: 26.9 ms, total: 638 ms\n",
      "Wall time: 162 ms\n"
     ]
    },
    {
     "data": {
      "text/plain": [
       "549937    1.000000\n",
       "154091    1.000000\n",
       "755734    0.999998\n",
       "dtype: float64"
      ]
     },
     "execution_count": 14,
     "metadata": {},
     "output_type": "execute_result"
    }
   ],
   "source": [
    "import numpy\n",
    "import pandas\n",
    "\n",
    "data = pandas.Series(numpy.random.random(1_000_000))\n",
    "\n",
    "%time data.sort_values(ascending=False).head(3)"
   ]
  },
  {
   "cell_type": "markdown",
   "metadata": {
    "slideshow": {
     "slide_type": "subslide"
    }
   },
   "source": [
    "![](img/books.jpg)"
   ]
  },
  {
   "cell_type": "code",
   "execution_count": 15,
   "metadata": {
    "slideshow": {
     "slide_type": "subslide"
    }
   },
   "outputs": [
    {
     "name": "stdout",
     "output_type": "stream",
     "text": [
      "CPU times: user 65.4 ms, sys: 13.8 ms, total: 79.2 ms\n",
      "Wall time: 19.6 ms\n"
     ]
    },
    {
     "data": {
      "text/plain": [
       "549937    1.000000\n",
       "154091    1.000000\n",
       "755734    0.999998\n",
       "dtype: float64"
      ]
     },
     "execution_count": 15,
     "metadata": {},
     "output_type": "execute_result"
    }
   ],
   "source": [
    "%time data.nlargest(3)"
   ]
  },
  {
   "cell_type": "markdown",
   "metadata": {
    "slideshow": {
     "slide_type": "subslide"
    }
   },
   "source": [
    "## Distribution of the subtasks\n",
    "\n",
    "![](img/dask.gif)"
   ]
  },
  {
   "cell_type": "markdown",
   "metadata": {
    "slideshow": {
     "slide_type": "subslide"
    }
   },
   "source": [
    "- Ibis\n",
    " - http://docs.ibis-project.org/\n",
    "\n",
    "- Dask\n",
    " - https://dask.pydata.org\n",
    "\n",
    "- Tom Augspurger: Method chaining\n",
    " - https://tomaugspurger.github.io/method-chaining\n",
    "\n",
    "- James Powell: Generators will free your mind\n",
    " - https://www.youtube.com/watch?v=RdhoN4VVqq8"
   ]
  },
  {
   "cell_type": "markdown",
   "metadata": {
    "slideshow": {
     "slide_type": "subslide"
    }
   },
   "source": [
    "### Memory copies\n",
    "\n",
    "```python\n",
    ">>> df = pandas.DataFrame({'foo': [1., 2.],\n",
    "...                        'bar': [numpy.nan, 4.]})\n",
    "   foo  bar\n",
    "0  1.0  NaN\n",
    "1  2.0  4.0\n",
    "\n",
    "```\n",
    "\n",
    "In place:\n",
    "\n",
    "```python\n",
    ">>> df.fillna(0., inplace=True)\n",
    ">>> df.isnull().any(axis=None)\n",
    "False\n",
    "```\n",
    "\n",
    "Return a copy:\n",
    "\n",
    "```python\n",
    ">>> df_copy = df.fillna(0.)\n",
    ">>> df.isnull().any(axis=None)\n",
    "True\n",
    "```"
   ]
  },
  {
   "cell_type": "markdown",
   "metadata": {
    "slideshow": {
     "slide_type": "subslide"
    }
   },
   "source": [
    "Data representation example: Number 79\n",
    "\n",
    "- **uint8:** 01001111\n",
    "- **int32:** 00000000000000000000000001001111\n",
    "- **float64:** 0100000001010011110000000000000000000000000000000000000000000000\n",
    "- **object:** `<memory_address> -> <pyobject (refcount, type, size, digit)>`\n",
    "- **string (ascii):** 0011011100111001"
   ]
  },
  {
   "cell_type": "markdown",
   "metadata": {
    "slideshow": {
     "slide_type": "subslide"
    }
   },
   "source": [
    "#### NumPy\n",
    "\n",
    "![](img/numpy.jpg)\n",
    "\n",
    "Source: https://www.slideshare.net/teoliphant/python-for-data-science-with-anaconda"
   ]
  },
  {
   "cell_type": "markdown",
   "metadata": {
    "slideshow": {
     "slide_type": "subslide"
    }
   },
   "source": [
    "![](img/blockmanager.png)\n",
    "\n",
    "Source: https://www.dataquest.io/blog/pandas-big-data/"
   ]
  },
  {
   "cell_type": "markdown",
   "metadata": {
    "slideshow": {
     "slide_type": "subslide"
    }
   },
   "source": [
    "Changing the size or type of a block requires:\n",
    "\n",
    "- **Allocate** a block of different size or type\n",
    "- **Copy** all content to the new block\n",
    "- **Deallocate** old block"
   ]
  },
  {
   "cell_type": "markdown",
   "metadata": {
    "slideshow": {
     "slide_type": "subslide"
    }
   },
   "source": [
    "## Why is important whether we copy data or not?\n",
    "\n",
    "![](img/cpu_memory_speed.jpg)"
   ]
  },
  {
   "cell_type": "code",
   "execution_count": 16,
   "metadata": {
    "slideshow": {
     "slide_type": "subslide"
    }
   },
   "outputs": [
    {
     "name": "stdout",
     "output_type": "stream",
     "text": [
      "foo    float64\n",
      "bar    float64\n",
      "dtype: object\n"
     ]
    }
   ],
   "source": [
    "df = pandas.DataFrame({'foo': [1., 2.],\n",
    "                       'bar': [numpy.nan, 4.]})\n",
    "\n",
    "print(df.dtypes)"
   ]
  },
  {
   "cell_type": "code",
   "execution_count": 17,
   "metadata": {
    "slideshow": {
     "slide_type": "fragment"
    }
   },
   "outputs": [
    {
     "name": "stdout",
     "output_type": "stream",
     "text": [
      "foo    float64\n",
      "bar     object\n",
      "dtype: object\n"
     ]
    }
   ],
   "source": [
    "df.fillna('val', inplace=True)\n",
    "\n",
    "print(df.dtypes)"
   ]
  },
  {
   "cell_type": "markdown",
   "metadata": {
    "slideshow": {
     "slide_type": "subslide"
    }
   },
   "source": [
    "Notes on memory copies:\n",
    "\n",
    "- With the `BlockManager` memory copies are frequent\n",
    "\n",
    "- `inplace=True` does not mean memory is not copied\n",
    "\n",
    "- `df = df.something()` syntax does not implies memory copies"
   ]
  },
  {
   "cell_type": "markdown",
   "metadata": {
    "slideshow": {
     "slide_type": "subslide"
    }
   },
   "source": [
    "- Jake VanderPlas: Why Python is Slow: Looking Under the Hood\n",
    " - http://jakevdp.github.io/blog/2014/05/09/why-python-is-slow/\n",
    "\n",
    "\n",
    "- Marc Garcia: Demistifying pandas internals\n",
    " - https://www.youtube.com/watch?v=F37fV0uFf60"
   ]
  },
  {
   "cell_type": "markdown",
   "metadata": {
    "slideshow": {
     "slide_type": "subslide"
    }
   },
   "source": [
    "<p style=\"text-align: center; font-size: 1.2em; line-height: 1.2em\">\n",
    "    \"The more you know about the internals of pandas DataFrame,<br/>\n",
    "    the more horrified you are.\"\n",
    "</p>\n",
    "\n",
    "<p style=\"text-align: right; font-size: 1.2em\">\n",
    "    Wes McKinney @ SciPy 2018\n",
    "</p>"
   ]
  },
  {
   "cell_type": "markdown",
   "metadata": {
    "slideshow": {
     "slide_type": "subslide"
    }
   },
   "source": [
    "### What is the solution?"
   ]
  },
  {
   "cell_type": "markdown",
   "metadata": {
    "slideshow": {
     "slide_type": "fragment"
    }
   },
   "source": [
    "**Apache arrow** - https://arrow.apache.org/\n",
    "\n",
    "- Open standard for **columnar data** representation\n",
    "- Optimised to avoid **CPU cache** misses\n",
    "- Native representation of complex formats (e.g. **string**, categorical, lists...)\n",
    "- Built-in **parallelism** (multiple cores support)\n",
    "- **Chunking**\n",
    "- Much more\n",
    "\n",
    "**A back-end designed for pandas needs (and R and others)**\n",
    "\n",
    "- Wes McKinney: Apache Arrow and the \"10 Things I Hate About pandas\"\n",
    " - http://wesmckinney.com/blog/apache-arrow-pandas-internals/\n",
    "\n",
    "- Wes McKinney: Apache Arrow, A Cross-Language Development Platform for in Memory Data\n",
    " - https://www.youtube.com/watch?v=y7zGnKzaKIw"
   ]
  },
  {
   "cell_type": "markdown",
   "metadata": {
    "slideshow": {
     "slide_type": "subslide"
    }
   },
   "source": [
    "Already used in pandas and other projecs\n",
    "- `pandas.from_parquet`\n",
    "- `pyspark.DataFrame.to_pandas()`\n",
    "- `turbodbc`\n",
    "\n",
    "But still work in progress to be the pandas backend 😒"
   ]
  },
  {
   "cell_type": "markdown",
   "metadata": {
    "slideshow": {
     "slide_type": "fragment"
    }
   },
   "source": [
    "Wes is hiring to work full-time on Arrow at Ursa Labs (C++, remote) 😃\n",
    "\n",
    "- Ursa Labs announcement: http://wesmckinney.com/blog/announcing-ursalabs/\n",
    "- Job description: https://hire.withgoogle.com/public/jobs/rstudiocom/view/P_AAAAAACAAADN8HO470lz8Z"
   ]
  },
  {
   "cell_type": "markdown",
   "metadata": {
    "slideshow": {
     "slide_type": "slide"
    }
   },
   "source": [
    "## What else is happening in pandas?"
   ]
  },
  {
   "cell_type": "markdown",
   "metadata": {
    "slideshow": {
     "slide_type": "fragment"
    }
   },
   "source": [
    "- Lots of **maintenance**\n",
    " - Bugfixes, automation, cleaning..."
   ]
  },
  {
   "cell_type": "markdown",
   "metadata": {
    "slideshow": {
     "slide_type": "subslide"
    }
   },
   "source": [
    "- Update to new Python versions\n",
    " - Python **3.7** compatibility\n",
    " - Use of sorted dicts (DataFrame creation, `assign`...)"
   ]
  },
  {
   "cell_type": "code",
   "execution_count": 18,
   "metadata": {
    "slideshow": {
     "slide_type": "fragment"
    }
   },
   "outputs": [
    {
     "data": {
      "text/html": [
       "<div>\n",
       "<style scoped>\n",
       "    .dataframe tbody tr th:only-of-type {\n",
       "        vertical-align: middle;\n",
       "    }\n",
       "\n",
       "    .dataframe tbody tr th {\n",
       "        vertical-align: top;\n",
       "    }\n",
       "\n",
       "    .dataframe thead th {\n",
       "        text-align: right;\n",
       "    }\n",
       "</style>\n",
       "<table border=\"1\" class=\"dataframe\">\n",
       "  <thead>\n",
       "    <tr style=\"text-align: right;\">\n",
       "      <th></th>\n",
       "      <th>fib1</th>\n",
       "      <th>fib2</th>\n",
       "    </tr>\n",
       "  </thead>\n",
       "  <tbody>\n",
       "    <tr>\n",
       "      <th>0</th>\n",
       "      <td>1</td>\n",
       "      <td>1</td>\n",
       "    </tr>\n",
       "    <tr>\n",
       "      <th>1</th>\n",
       "      <td>1</td>\n",
       "      <td>1</td>\n",
       "    </tr>\n",
       "    <tr>\n",
       "      <th>2</th>\n",
       "      <td>1</td>\n",
       "      <td>1</td>\n",
       "    </tr>\n",
       "  </tbody>\n",
       "</table>\n",
       "</div>"
      ],
      "text/plain": [
       "   fib1  fib2\n",
       "0     1     1\n",
       "1     1     1\n",
       "2     1     1"
      ]
     },
     "execution_count": 18,
     "metadata": {},
     "output_type": "execute_result"
    }
   ],
   "source": [
    "import pandas\n",
    "\n",
    "fib = pandas.DataFrame({'fib1': [1, 1, 1], 'fib2': [1, 1, 1]})\n",
    "fib"
   ]
  },
  {
   "cell_type": "code",
   "execution_count": 19,
   "metadata": {
    "slideshow": {
     "slide_type": "fragment"
    }
   },
   "outputs": [
    {
     "data": {
      "text/html": [
       "<div>\n",
       "<style scoped>\n",
       "    .dataframe tbody tr th:only-of-type {\n",
       "        vertical-align: middle;\n",
       "    }\n",
       "\n",
       "    .dataframe tbody tr th {\n",
       "        vertical-align: top;\n",
       "    }\n",
       "\n",
       "    .dataframe thead th {\n",
       "        text-align: right;\n",
       "    }\n",
       "</style>\n",
       "<table border=\"1\" class=\"dataframe\">\n",
       "  <thead>\n",
       "    <tr style=\"text-align: right;\">\n",
       "      <th></th>\n",
       "      <th>fib1</th>\n",
       "      <th>fib2</th>\n",
       "      <th>fib3</th>\n",
       "      <th>fib4</th>\n",
       "    </tr>\n",
       "  </thead>\n",
       "  <tbody>\n",
       "    <tr>\n",
       "      <th>0</th>\n",
       "      <td>1</td>\n",
       "      <td>1</td>\n",
       "      <td>2</td>\n",
       "      <td>3</td>\n",
       "    </tr>\n",
       "    <tr>\n",
       "      <th>1</th>\n",
       "      <td>1</td>\n",
       "      <td>1</td>\n",
       "      <td>2</td>\n",
       "      <td>3</td>\n",
       "    </tr>\n",
       "    <tr>\n",
       "      <th>2</th>\n",
       "      <td>1</td>\n",
       "      <td>1</td>\n",
       "      <td>2</td>\n",
       "      <td>3</td>\n",
       "    </tr>\n",
       "  </tbody>\n",
       "</table>\n",
       "</div>"
      ],
      "text/plain": [
       "   fib1  fib2  fib3  fib4\n",
       "0     1     1     2     3\n",
       "1     1     1     2     3\n",
       "2     1     1     2     3"
      ]
     },
     "execution_count": 19,
     "metadata": {},
     "output_type": "execute_result"
    }
   ],
   "source": [
    "fib = fib.assign(fib3=lambda fib: fib['fib1'] + fib['fib2'],\n",
    "                 fib4=lambda fib: fib['fib2'] + fib['fib3'])\n",
    "fib"
   ]
  },
  {
   "cell_type": "markdown",
   "metadata": {
    "slideshow": {
     "slide_type": "slide"
    }
   },
   "source": [
    "### Dropping Python 2 support\n",
    "\n",
    "- In January 2019 (yes, in 4.5 months)\n",
    " - Not only pandas, also numpy, matplotlib and others"
   ]
  },
  {
   "cell_type": "markdown",
   "metadata": {
    "slideshow": {
     "slide_type": "subslide"
    }
   },
   "source": [
    "### Some Python 3 features\n",
    "\n",
    "Old:\n",
    "```python\n",
    "samples = 100000000\n",
    "```\n",
    "\n",
    "New:\n",
    "```python\n",
    "samples = 100_000_000\n",
    "```"
   ]
  },
  {
   "cell_type": "markdown",
   "metadata": {
    "slideshow": {
     "slide_type": "subslide"
    }
   },
   "source": [
    "### Some Python 3 features\n",
    "\n",
    "Old:\n",
    "```python\n",
    "print('samples: %s' % samples)\n",
    "print('samples: {samples}'.format(samples=samples))\n",
    "```\n",
    "\n",
    "New:\n",
    "```python\n",
    "print(f'samples: {samples}')\n",
    "```"
   ]
  },
  {
   "cell_type": "markdown",
   "metadata": {
    "slideshow": {
     "slide_type": "subslide"
    }
   },
   "source": [
    "### Some Python 3 features\n",
    "\n",
    "```python\n",
    "data = 'My hovercraft is full of eels.'.split()\n",
    "```\n",
    "\n",
    "Old:\n",
    "```python\n",
    "first, second, last = data[0], data[1], data[-1]\n",
    "```\n",
    "\n",
    "New:\n",
    "```python\n",
    "first, second, *discard, last = data\n",
    "```"
   ]
  },
  {
   "cell_type": "markdown",
   "metadata": {
    "slideshow": {
     "slide_type": "subslide"
    }
   },
   "source": [
    "### Cost of supporting Python 2\n",
    "\n",
    "Supporting last version only:\n",
    "```python\n",
    "def length(value):\n",
    "    if isinstance(value, str):\n",
    "        return len(value)\n",
    "```\n",
    "\n",
    "Supporting Python 2:\n",
    "```python\n",
    "def length(value):\n",
    "    if isinstance(value, compat.string_types):\n",
    "        return compat.strlen(value)\n",
    "```"
   ]
  },
  {
   "cell_type": "markdown",
   "metadata": {
    "slideshow": {
     "slide_type": "subslide"
    }
   },
   "source": [
    "### Cost of supporting Python 2\n",
    "\n",
    "Supporting last version only:\n",
    "```python\n",
    "def sorted_apply(func, items):\n",
    "    return {x: func(x) for x in items}\n",
    "```\n",
    "\n",
    "Supporting Python 2:\n",
    "```python\n",
    "def sorted_apply(func, items):\n",
    "    if compat.PY36:\n",
    "        return {x: func(x) for x in items}\n",
    "    else:\n",
    "        result = collections.OrderedDict()\n",
    "        for x in items:\n",
    "            result[x] = func(x)\n",
    "        return result\n",
    "```"
   ]
  },
  {
   "cell_type": "markdown",
   "metadata": {
    "slideshow": {
     "slide_type": "subslide"
    }
   },
   "source": [
    "### Dropping Python 2 support\n",
    "\n",
    "- In January 2019 (yes, in 4.5 months)\n",
    " - Not only pandas, also numpy, matplotlib and others"
   ]
  },
  {
   "cell_type": "markdown",
   "metadata": {
    "slideshow": {
     "slide_type": "slide"
    }
   },
   "source": [
    "## Extension arrays"
   ]
  },
  {
   "cell_type": "code",
   "execution_count": 20,
   "metadata": {
    "slideshow": {
     "slide_type": "fragment"
    }
   },
   "outputs": [
    {
     "data": {
      "text/plain": [
       "0    1\n",
       "1    2\n",
       "2    3\n",
       "dtype: uint8"
      ]
     },
     "execution_count": 20,
     "metadata": {},
     "output_type": "execute_result"
    }
   ],
   "source": [
    "import numpy\n",
    "import pandas\n",
    "\n",
    "s = pandas.Series([1, 2, 3], dtype=numpy.uint8)\n",
    "\n",
    "s"
   ]
  },
  {
   "cell_type": "code",
   "execution_count": 21,
   "metadata": {
    "slideshow": {
     "slide_type": "fragment"
    }
   },
   "outputs": [
    {
     "data": {
      "text/plain": [
       "array([1, 2, 3], dtype=uint8)"
      ]
     },
     "execution_count": 21,
     "metadata": {},
     "output_type": "execute_result"
    }
   ],
   "source": [
    "s.values"
   ]
  },
  {
   "cell_type": "markdown",
   "metadata": {
    "slideshow": {
     "slide_type": "subslide"
    }
   },
   "source": [
    "### Categories"
   ]
  },
  {
   "cell_type": "code",
   "execution_count": 22,
   "metadata": {
    "slideshow": {
     "slide_type": "fragment"
    }
   },
   "outputs": [
    {
     "data": {
      "text/plain": [
       "0    dog\n",
       "1    cat\n",
       "2    dog\n",
       "dtype: category\n",
       "Categories (2, object): [cat, dog]"
      ]
     },
     "execution_count": 22,
     "metadata": {},
     "output_type": "execute_result"
    }
   ],
   "source": [
    "s = pandas.Series(['dog', 'cat', 'dog'], dtype='category')\n",
    "\n",
    "s"
   ]
  },
  {
   "cell_type": "code",
   "execution_count": 23,
   "metadata": {
    "slideshow": {
     "slide_type": "fragment"
    }
   },
   "outputs": [
    {
     "data": {
      "text/plain": [
       "[dog, cat, dog]\n",
       "Categories (2, object): [cat, dog]"
      ]
     },
     "execution_count": 23,
     "metadata": {},
     "output_type": "execute_result"
    }
   ],
   "source": [
    "s.values"
   ]
  },
  {
   "cell_type": "code",
   "execution_count": 24,
   "metadata": {
    "slideshow": {
     "slide_type": "fragment"
    }
   },
   "outputs": [
    {
     "data": {
      "text/plain": [
       "0    1\n",
       "1    0\n",
       "2    1\n",
       "dtype: int8"
      ]
     },
     "execution_count": 24,
     "metadata": {},
     "output_type": "execute_result"
    }
   ],
   "source": [
    "s.cat.codes"
   ]
  },
  {
   "cell_type": "code",
   "execution_count": 25,
   "metadata": {
    "slideshow": {
     "slide_type": "fragment"
    }
   },
   "outputs": [
    {
     "data": {
      "text/plain": [
       "Index(['cat', 'dog'], dtype='object')"
      ]
     },
     "execution_count": 25,
     "metadata": {},
     "output_type": "execute_result"
    }
   ],
   "source": [
    "s.cat.categories"
   ]
  },
  {
   "cell_type": "markdown",
   "metadata": {
    "slideshow": {
     "slide_type": "subslide"
    }
   },
   "source": [
    "### Cyberpandas"
   ]
  },
  {
   "cell_type": "code",
   "execution_count": 26,
   "metadata": {
    "slideshow": {
     "slide_type": "fragment"
    }
   },
   "outputs": [
    {
     "data": {
      "text/plain": [
       "0        127.0.0.1\n",
       "1    255.255.255.0\n",
       "dtype: ip"
      ]
     },
     "execution_count": 26,
     "metadata": {},
     "output_type": "execute_result"
    }
   ],
   "source": [
    "import cyberpandas\n",
    "\n",
    "arr = cyberpandas.IPArray(['127.0.0.1', '255.255.255.0'])\n",
    "\n",
    "s = pandas.Series(arr)\n",
    "\n",
    "s"
   ]
  },
  {
   "cell_type": "markdown",
   "metadata": {
    "slideshow": {
     "slide_type": "subslide"
    }
   },
   "source": [
    "### Integer with NaN"
   ]
  },
  {
   "cell_type": "code",
   "execution_count": 27,
   "metadata": {
    "slideshow": {
     "slide_type": "subslide"
    }
   },
   "outputs": [
    {
     "data": {
      "text/plain": [
       "0    1.0\n",
       "1    2.0\n",
       "2    NaN\n",
       "3    4.0\n",
       "dtype: float64"
      ]
     },
     "execution_count": 27,
     "metadata": {},
     "output_type": "execute_result"
    }
   ],
   "source": [
    "import numpy\n",
    "import pandas\n",
    "\n",
    "pandas.Series([1, 2, numpy.nan, 4])"
   ]
  },
  {
   "cell_type": "code",
   "execution_count": 28,
   "metadata": {
    "slideshow": {
     "slide_type": "subslide"
    }
   },
   "outputs": [
    {
     "ename": "ValueError",
     "evalue": "cannot convert float NaN to integer",
     "output_type": "error",
     "traceback": [
      "\u001b[0;31m---------------------------------------------------------------------------\u001b[0m",
      "\u001b[0;31mValueError\u001b[0m                                Traceback (most recent call last)",
      "\u001b[0;32m<ipython-input-28-f475b4035719>\u001b[0m in \u001b[0;36m<module>\u001b[0;34m()\u001b[0m\n\u001b[1;32m      2\u001b[0m \u001b[0;32mimport\u001b[0m \u001b[0mpandas\u001b[0m\u001b[0;34m\u001b[0m\u001b[0m\n\u001b[1;32m      3\u001b[0m \u001b[0;34m\u001b[0m\u001b[0m\n\u001b[0;32m----> 4\u001b[0;31m \u001b[0mpandas\u001b[0m\u001b[0;34m.\u001b[0m\u001b[0mSeries\u001b[0m\u001b[0;34m(\u001b[0m\u001b[0;34m[\u001b[0m\u001b[0;36m1\u001b[0m\u001b[0;34m,\u001b[0m \u001b[0;36m2\u001b[0m\u001b[0;34m,\u001b[0m \u001b[0mnumpy\u001b[0m\u001b[0;34m.\u001b[0m\u001b[0mnan\u001b[0m\u001b[0;34m,\u001b[0m \u001b[0;36m4\u001b[0m\u001b[0;34m]\u001b[0m\u001b[0;34m,\u001b[0m \u001b[0mdtype\u001b[0m\u001b[0;34m=\u001b[0m\u001b[0mnumpy\u001b[0m\u001b[0;34m.\u001b[0m\u001b[0muint8\u001b[0m\u001b[0;34m)\u001b[0m\u001b[0;34m\u001b[0m\u001b[0m\n\u001b[0m",
      "\u001b[0;32m~/src/towards_pandas_10/pandas/pandas/core/series.py\u001b[0m in \u001b[0;36m__init__\u001b[0;34m(self, data, index, dtype, name, copy, fastpath)\u001b[0m\n\u001b[1;32m    279\u001b[0m             \u001b[0;32melse\u001b[0m\u001b[0;34m:\u001b[0m\u001b[0;34m\u001b[0m\u001b[0m\n\u001b[1;32m    280\u001b[0m                 data = _sanitize_array(data, index, dtype, copy,\n\u001b[0;32m--> 281\u001b[0;31m                                        raise_cast_failure=True)\n\u001b[0m\u001b[1;32m    282\u001b[0m \u001b[0;34m\u001b[0m\u001b[0m\n\u001b[1;32m    283\u001b[0m                 \u001b[0mdata\u001b[0m \u001b[0;34m=\u001b[0m \u001b[0mSingleBlockManager\u001b[0m\u001b[0;34m(\u001b[0m\u001b[0mdata\u001b[0m\u001b[0;34m,\u001b[0m \u001b[0mindex\u001b[0m\u001b[0;34m,\u001b[0m \u001b[0mfastpath\u001b[0m\u001b[0;34m=\u001b[0m\u001b[0;32mTrue\u001b[0m\u001b[0;34m)\u001b[0m\u001b[0;34m\u001b[0m\u001b[0m\n",
      "\u001b[0;32m~/src/towards_pandas_10/pandas/pandas/core/series.py\u001b[0m in \u001b[0;36m_sanitize_array\u001b[0;34m(data, index, dtype, copy, raise_cast_failure)\u001b[0m\n\u001b[1;32m   4159\u001b[0m         \u001b[0;32mif\u001b[0m \u001b[0mdtype\u001b[0m \u001b[0;32mis\u001b[0m \u001b[0;32mnot\u001b[0m \u001b[0;32mNone\u001b[0m\u001b[0;34m:\u001b[0m\u001b[0;34m\u001b[0m\u001b[0m\n\u001b[1;32m   4160\u001b[0m             \u001b[0;32mtry\u001b[0m\u001b[0;34m:\u001b[0m\u001b[0;34m\u001b[0m\u001b[0m\n\u001b[0;32m-> 4161\u001b[0;31m                 \u001b[0msubarr\u001b[0m \u001b[0;34m=\u001b[0m \u001b[0m_try_cast\u001b[0m\u001b[0;34m(\u001b[0m\u001b[0mdata\u001b[0m\u001b[0;34m,\u001b[0m \u001b[0;32mFalse\u001b[0m\u001b[0;34m)\u001b[0m\u001b[0;34m\u001b[0m\u001b[0m\n\u001b[0m\u001b[1;32m   4162\u001b[0m             \u001b[0;32mexcept\u001b[0m \u001b[0mException\u001b[0m\u001b[0;34m:\u001b[0m\u001b[0;34m\u001b[0m\u001b[0m\n\u001b[1;32m   4163\u001b[0m                 \u001b[0;32mif\u001b[0m \u001b[0mraise_cast_failure\u001b[0m\u001b[0;34m:\u001b[0m  \u001b[0;31m# pragma: no cover\u001b[0m\u001b[0;34m\u001b[0m\u001b[0m\n",
      "\u001b[0;32m~/src/towards_pandas_10/pandas/pandas/core/series.py\u001b[0m in \u001b[0;36m_try_cast\u001b[0;34m(arr, take_fast_path)\u001b[0m\n\u001b[1;32m   4092\u001b[0m             \u001b[0;31m# that we can convert the data to the requested dtype.\u001b[0m\u001b[0;34m\u001b[0m\u001b[0;34m\u001b[0m\u001b[0m\n\u001b[1;32m   4093\u001b[0m             \u001b[0;32mif\u001b[0m \u001b[0mis_float_dtype\u001b[0m\u001b[0;34m(\u001b[0m\u001b[0mdtype\u001b[0m\u001b[0;34m)\u001b[0m \u001b[0;32mor\u001b[0m \u001b[0mis_integer_dtype\u001b[0m\u001b[0;34m(\u001b[0m\u001b[0mdtype\u001b[0m\u001b[0;34m)\u001b[0m\u001b[0;34m:\u001b[0m\u001b[0;34m\u001b[0m\u001b[0m\n\u001b[0;32m-> 4094\u001b[0;31m                 \u001b[0msubarr\u001b[0m \u001b[0;34m=\u001b[0m \u001b[0mmaybe_cast_to_integer_array\u001b[0m\u001b[0;34m(\u001b[0m\u001b[0marr\u001b[0m\u001b[0;34m,\u001b[0m \u001b[0mdtype\u001b[0m\u001b[0;34m)\u001b[0m\u001b[0;34m\u001b[0m\u001b[0m\n\u001b[0m\u001b[1;32m   4095\u001b[0m \u001b[0;34m\u001b[0m\u001b[0m\n\u001b[1;32m   4096\u001b[0m             \u001b[0msubarr\u001b[0m \u001b[0;34m=\u001b[0m \u001b[0mmaybe_cast_to_datetime\u001b[0m\u001b[0;34m(\u001b[0m\u001b[0marr\u001b[0m\u001b[0;34m,\u001b[0m \u001b[0mdtype\u001b[0m\u001b[0;34m)\u001b[0m\u001b[0;34m\u001b[0m\u001b[0m\n",
      "\u001b[0;32m~/src/towards_pandas_10/pandas/pandas/core/dtypes/cast.py\u001b[0m in \u001b[0;36mmaybe_cast_to_integer_array\u001b[0;34m(arr, dtype, copy)\u001b[0m\n\u001b[1;32m   1330\u001b[0m     \u001b[0;32mtry\u001b[0m\u001b[0;34m:\u001b[0m\u001b[0;34m\u001b[0m\u001b[0m\n\u001b[1;32m   1331\u001b[0m         \u001b[0;32mif\u001b[0m \u001b[0;32mnot\u001b[0m \u001b[0mhasattr\u001b[0m\u001b[0;34m(\u001b[0m\u001b[0marr\u001b[0m\u001b[0;34m,\u001b[0m \u001b[0;34m\"astype\"\u001b[0m\u001b[0;34m)\u001b[0m\u001b[0;34m:\u001b[0m\u001b[0;34m\u001b[0m\u001b[0m\n\u001b[0;32m-> 1332\u001b[0;31m             \u001b[0mcasted\u001b[0m \u001b[0;34m=\u001b[0m \u001b[0mnp\u001b[0m\u001b[0;34m.\u001b[0m\u001b[0marray\u001b[0m\u001b[0;34m(\u001b[0m\u001b[0marr\u001b[0m\u001b[0;34m,\u001b[0m \u001b[0mdtype\u001b[0m\u001b[0;34m=\u001b[0m\u001b[0mdtype\u001b[0m\u001b[0;34m,\u001b[0m \u001b[0mcopy\u001b[0m\u001b[0;34m=\u001b[0m\u001b[0mcopy\u001b[0m\u001b[0;34m)\u001b[0m\u001b[0;34m\u001b[0m\u001b[0m\n\u001b[0m\u001b[1;32m   1333\u001b[0m         \u001b[0;32melse\u001b[0m\u001b[0;34m:\u001b[0m\u001b[0;34m\u001b[0m\u001b[0m\n\u001b[1;32m   1334\u001b[0m             \u001b[0mcasted\u001b[0m \u001b[0;34m=\u001b[0m \u001b[0marr\u001b[0m\u001b[0;34m.\u001b[0m\u001b[0mastype\u001b[0m\u001b[0;34m(\u001b[0m\u001b[0mdtype\u001b[0m\u001b[0;34m,\u001b[0m \u001b[0mcopy\u001b[0m\u001b[0;34m=\u001b[0m\u001b[0mcopy\u001b[0m\u001b[0;34m)\u001b[0m\u001b[0;34m\u001b[0m\u001b[0m\n",
      "\u001b[0;31mValueError\u001b[0m: cannot convert float NaN to integer"
     ]
    }
   ],
   "source": [
    "import numpy\n",
    "import pandas\n",
    "\n",
    "pandas.Series([1, 2, numpy.nan, 4], dtype=numpy.uint8)"
   ]
  },
  {
   "cell_type": "code",
   "execution_count": 29,
   "metadata": {
    "slideshow": {
     "slide_type": "subslide"
    }
   },
   "outputs": [
    {
     "data": {
      "text/plain": [
       "0      1\n",
       "1      2\n",
       "2    NaN\n",
       "3      4\n",
       "dtype: UInt8"
      ]
     },
     "execution_count": 29,
     "metadata": {},
     "output_type": "execute_result"
    }
   ],
   "source": [
    "import numpy\n",
    "import pandas\n",
    "\n",
    "pandas.Series([1, 2, numpy.nan, 4], dtype='UInt8')"
   ]
  },
  {
   "cell_type": "markdown",
   "metadata": {
    "slideshow": {
     "slide_type": "subslide"
    }
   },
   "source": [
    "### Fletcher"
   ]
  },
  {
   "cell_type": "code",
   "execution_count": 30,
   "metadata": {
    "slideshow": {
     "slide_type": "subslide"
    }
   },
   "outputs": [
    {
     "data": {
      "text/plain": [
       "['spam,',\n",
       " 'spam,',\n",
       " 'spam,',\n",
       " 'spam',\n",
       " 'spam,',\n",
       " 'spam',\n",
       " 'spam,',\n",
       " 'spam,',\n",
       " 'spam!',\n",
       " 'spam!']"
      ]
     },
     "execution_count": 30,
     "metadata": {},
     "output_type": "execute_result"
    }
   ],
   "source": [
    "import random\n",
    "\n",
    "spam_list = [random.choice(['spam', 'spam,', 'spam!'])\n",
    "             for i in range(1_000_000)]\n",
    "\n",
    "spam_list[:10]"
   ]
  },
  {
   "cell_type": "code",
   "execution_count": 31,
   "metadata": {
    "slideshow": {
     "slide_type": "fragment"
    }
   },
   "outputs": [
    {
     "data": {
      "text/plain": [
       "0.332707"
      ]
     },
     "execution_count": 31,
     "metadata": {},
     "output_type": "execute_result"
    }
   ],
   "source": [
    "import pandas\n",
    "\n",
    "s = pandas.Series(spam_list)\n",
    "\n",
    "s.str.endswith('!').mean()"
   ]
  },
  {
   "cell_type": "code",
   "execution_count": 32,
   "metadata": {
    "slideshow": {
     "slide_type": "fragment"
    }
   },
   "outputs": [
    {
     "name": "stdout",
     "output_type": "stream",
     "text": [
      "294 ms ± 14.5 ms per loop (mean ± std. dev. of 7 runs, 1 loop each)\n"
     ]
    }
   ],
   "source": [
    "%timeit s.str.endswith('!').mean()"
   ]
  },
  {
   "cell_type": "code",
   "execution_count": 33,
   "metadata": {
    "slideshow": {
     "slide_type": "subslide"
    }
   },
   "outputs": [
    {
     "data": {
      "text/plain": [
       "0    spam,\n",
       "1    spam,\n",
       "2    spam,\n",
       "3     spam\n",
       "4    spam,\n",
       "dtype: fletcher[string]"
      ]
     },
     "execution_count": 33,
     "metadata": {},
     "output_type": "execute_result"
    }
   ],
   "source": [
    "import fletcher\n",
    "\n",
    "spam_fletcher = fletcher.FletcherArray(spam_list)\n",
    "\n",
    "s = pandas.Series(spam_fletcher)\n",
    "s.head()"
   ]
  },
  {
   "cell_type": "code",
   "execution_count": 34,
   "metadata": {
    "slideshow": {
     "slide_type": "fragment"
    }
   },
   "outputs": [
    {
     "name": "stdout",
     "output_type": "stream",
     "text": [
      "190 ms ± 12.6 ms per loop (mean ± std. dev. of 7 runs, 1 loop each)\n"
     ]
    }
   ],
   "source": [
    "%timeit s.text.endswith('!').mean()"
   ]
  },
  {
   "cell_type": "markdown",
   "metadata": {
    "slideshow": {
     "slide_type": "subslide"
    }
   },
   "source": [
    "## Documentation\n",
    "\n",
    "![](img/docs.png)"
   ]
  },
  {
   "cell_type": "markdown",
   "metadata": {
    "slideshow": {
     "slide_type": "subslide"
    }
   },
   "source": [
    "### scikit-learn integration\n",
    "\n"
   ]
  },
  {
   "cell_type": "code",
   "execution_count": 35,
   "metadata": {
    "slideshow": {
     "slide_type": "fragment"
    }
   },
   "outputs": [],
   "source": [
    "import sklearn.pipeline\n",
    "import sklearn.compose\n",
    "import sklearn.preprocessing\n",
    "import sklearn.linear_model\n",
    "\n",
    "preprocess = sklearn.compose.make_column_transformer(\n",
    "    (['Fare'], sklearn.preprocessing.StandardScaler()),\n",
    "    (['Sex', 'Pclass'], sklearn.preprocessing.OneHotEncoder()))\n",
    "\n",
    "model = sklearn.pipeline.Pipeline([\n",
    "    ('preprocess', preprocess),\n",
    "    ('classifier', sklearn.linear_model.LogisticRegression()),\n",
    "])"
   ]
  },
  {
   "cell_type": "code",
   "execution_count": 36,
   "metadata": {
    "slideshow": {
     "slide_type": "fragment"
    }
   },
   "outputs": [
    {
     "data": {
      "text/plain": [
       "array([[-0.50244517,  0.        ,  1.        ,  0.        ,  0.        ,\n",
       "         1.        ],\n",
       "       [ 0.78684529,  1.        ,  0.        ,  1.        ,  0.        ,\n",
       "         0.        ],\n",
       "       [-0.48885426,  1.        ,  0.        ,  0.        ,  0.        ,\n",
       "         1.        ],\n",
       "       ...,\n",
       "       [-0.17626324,  1.        ,  0.        ,  0.        ,  0.        ,\n",
       "         1.        ],\n",
       "       [-0.04438104,  0.        ,  1.        ,  1.        ,  0.        ,\n",
       "         0.        ],\n",
       "       [-0.49237783,  0.        ,  1.        ,  0.        ,  0.        ,\n",
       "         1.        ]])"
      ]
     },
     "execution_count": 36,
     "metadata": {},
     "output_type": "execute_result"
    }
   ],
   "source": [
    "import pandas\n",
    "\n",
    "df = pandas.read_csv('data/titanic.csv.gz')\n",
    "x, y = df[['Fare', 'Sex', 'Pclass']], df['Survived']\n",
    "\n",
    "model.fit(x, y)\n",
    "\n",
    "preprocess.fit_transform(x)"
   ]
  },
  {
   "cell_type": "markdown",
   "metadata": {
    "slideshow": {
     "slide_type": "subslide"
    }
   },
   "source": [
    "- Joris Van den Bossche: Introducing the ColumnTransformer\n",
    " - https://jorisvandenbossche.github.io/blog/2018/05/28/scikit-learn-columntransformer/\n",
    "\n",
    "\n",
    "- Joris Van den Bossche: A new categorical encoder\n",
    " - https://jorisvandenbossche.github.io/blog/2017/11/20/categorical-encoder/\n",
    "\n",
    "\n",
    "- Joris Van den Bossche: scikit-learn and tabular data\n",
    " - https://www.youtube.com/watch?v=lXGcPbmxx8Q"
   ]
  },
  {
   "cell_type": "markdown",
   "metadata": {
    "slideshow": {
     "slide_type": "slide"
    }
   },
   "source": [
    "## pandas 1.0 Roadmap\n",
    "\n",
    "- **0.24**: September 2018\n",
    "\n",
    "- **0.25**: December 2018\n",
    " - Warnings for all deprecations\n",
    "\n",
    "- **1.0**\n",
    " - Same as 0.25, but with all deprecated features removed\n",
    " - If released in 2019, Python 3 only\n",
    "\n",
    "- No backward compatibility changes until 2.0\n",
    "\n",
    "https://github.com/pandas-dev/pandas/wiki/Pandas-Sprint-(July,-2018)"
   ]
  },
  {
   "cell_type": "markdown",
   "metadata": {
    "slideshow": {
     "slide_type": "slide"
    }
   },
   "source": [
    "## Get involved\n",
    "\n",
    "- **London Python sprints**\n",
    " - https://python-sprints.github.io/ / https://www.meetup.com/Python-Sprints/\n",
    "\n",
    "- Support **NumFOCUS**\n",
    " - https://numfocus.org/\n",
    " - Volunteer\n",
    " - Donate\n",
    " - Make your company involved\n",
    "   - Sponsor PyData\n",
    "   - Sponsor NumFOCUS\n",
    "   - https://numfocus.org/forum2018\n",
    "\n",
    "- Contact me directly\n",
    " - In the **pub**\n",
    " - On the Internet: **@datapythonista** (twitter, linkedin...)"
   ]
  },
  {
   "cell_type": "markdown",
   "metadata": {
    "slideshow": {
     "slide_type": "slide"
    }
   },
   "source": [
    "## Thank you!\n",
    "\n",
    "![](img/pandas_team.jpg)"
   ]
  }
 ],
 "metadata": {
  "celltoolbar": "Slideshow",
  "kernelspec": {
   "display_name": "Python 3",
   "language": "python",
   "name": "python3"
  },
  "language_info": {
   "codemirror_mode": {
    "name": "ipython",
    "version": 3
   },
   "file_extension": ".py",
   "mimetype": "text/x-python",
   "name": "python",
   "nbconvert_exporter": "python",
   "pygments_lexer": "ipython3",
   "version": "3.6.6"
  }
 },
 "nbformat": 4,
 "nbformat_minor": 2
}
